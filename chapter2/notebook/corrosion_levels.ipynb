{
 "cells": [
  {
   "cell_type": "code",
   "execution_count": 4,
   "metadata": {},
   "outputs": [],
   "source": [
    "using Optim\n",
    "using Distributions\n",
    "using ForwardDiff\n",
    "using CSV\n",
    "using DataFrames, NLSolversBase\n",
    "using LinearAlgebra: diag"
   ]
  },
  {
   "cell_type": "code",
   "execution_count": 5,
   "metadata": {},
   "outputs": [
    {
     "data": {
      "text/plain": [
       "confidence_intervals_0_95"
      ]
     },
     "metadata": {},
     "output_type": "display_data"
    }
   ],
   "source": [
    "ROUND_DIGITS = 4\n",
    "\n",
    "\"\"\"\n",
    "    variance_covariance_matrix(func::TwiceDifferentiable, parameters::AbstractVector{<:Real})\n",
    "    Returns the variance covariance matric of a twice differentiable log-likelihood function.\n",
    "\"\"\"\n",
    "function variance_covariance_matrix(func::TwiceDifferentiable, parameters::AbstractVector{<:Real})\n",
    "    hessian = hessian!(func, parameters)\n",
    "    return inv(hessian)\n",
    "end\n",
    "\n",
    "\"\"\"\n",
    "    standard_errors(var_cov_matrix::AbstractMatrix{<:Real})\n",
    "    Returns the standard errors based on a model's variance covariance matrix.\n",
    "\"\"\"\n",
    "function standard_errors(var_cov_matrix::AbstractMatrix{<:Real})\n",
    "    temp = diag(var_cov_matrix)\n",
    "    return sqrt.(temp)\n",
    "end\n",
    "\n",
    "\"\"\"\n",
    "    confidence_intervals_0_95(parameter::Float64, standard_deviation::Float64)\n",
    "    Returns a 95% confidence interval for an estimated parameter.\n",
    "\"\"\"\n",
    "function confidence_intervals_0_95(parameter::Float64, standard_deviation::Float64)\n",
    "    return [parameter - 1.96 * standard_deviation, parameter + 1.96 * standard_deviation]\n",
    "end"
   ]
  },
  {
   "cell_type": "code",
   "execution_count": 6,
   "metadata": {},
   "outputs": [
    {
     "data": {
      "text/plain": [
       "parameter_estimation"
      ]
     },
     "metadata": {},
     "output_type": "display_data"
    }
   ],
   "source": [
    "struct OptimizedResult\n",
    "    estimates::Array{Float64,1}\n",
    "    var_cov_matrix::Array{Float64,2}\n",
    "    std::Array{Float64,1}\n",
    "    intervals::Array\n",
    "end\n",
    "\n",
    "\"\"\"\n",
    "    parameter_estimation(func::TwiceDifferentiable, initial_parameters::AbstractVector{<:Real}, to_round::Bool=false)\n",
    "    Fits a twice differentiable log-likelihood function of a generic model by maximum likelihood. \n",
    "    Returns the estimates, the variance-covariance matrix, the standard errors and the 95% confidence intervals.\n",
    "\"\"\"\n",
    "function parameter_estimation(func::TwiceDifferentiable, initial_parameters::AbstractVector{<:Real}, to_round::Bool=false)\n",
    "    opt = optimize(func, initial_parameters)\n",
    "\n",
    "    parameters = Optim.minimizer(opt)\n",
    "    var_cov_matrix = variance_covariance_matrix(func, parameters)\n",
    "    std = standard_errors(var_cov_matrix)\n",
    "\n",
    "    intervals = []\n",
    "    for i in eachindex(parameters)\n",
    "        parameter_95 = confidence_intervals_0_95(parameters[i], std[i])\n",
    "\n",
    "        if to_round\n",
    "            parameter_95 = round.(parameter_95; digits=ROUND_DIGITS)\n",
    "        end\n",
    "\n",
    "        append!(intervals, [parameter_95])\n",
    "    end\n",
    "\n",
    "    if to_round\n",
    "        parameters = round.(parameters; digits=ROUND_DIGITS)\n",
    "        var_cov_matrix = round.(var_cov_matrix; digits=ROUND_DIGITS)\n",
    "        std = round.(std; digits=ROUND_DIGITS)\n",
    "    end\n",
    "    return OptimizedResult(parameters, var_cov_matrix, std, intervals)\n",
    "end"
   ]
  },
  {
   "cell_type": "code",
   "execution_count": 7,
   "metadata": {},
   "outputs": [
    {
     "data": {
      "text/plain": [
       "mean_failure_time"
      ]
     },
     "metadata": {},
     "output_type": "display_data"
    }
   ],
   "source": [
    "\"\"\"\n",
    "    mean_failure_time(corrosion_level::Int64, parameters::AbstractVector{<:Real}, var_cov_matrix::AbstractMatrix{<:Real}, to_round::Bool=false)\n",
    "    Returns the mean failure time for a given corrosion level and maximum likelihood parameter estimates.\n",
    "\"\"\"\n",
    "function mean_failure_time(corrosion_level::Int64, parameters::AbstractVector{<:Real}, var_cov_matrix::AbstractMatrix{<:Real}, to_round::Bool=false)\n",
    "    lambda = parameters[1]^-1 * corrosion_level^(-parameters[2])\n",
    "    delta = [(-parameters[1]^(-2)) * corrosion_level^(-parameters[2]); (-parameters[1]^(-1)) * corrosion_level^(-parameters[2]) * log(corrosion_level)]\n",
    "    deltaT = transpose(delta)\n",
    "    var = deltaT * var_cov_matrix * delta\n",
    "\n",
    "    mean_failure_time = confidence_intervals_0_95(lambda, sqrt(var))\n",
    "    if to_round\n",
    "        mean_failure_time = round.(mean_failure_time; digits=ROUND_DIGITS)\n",
    "    end\n",
    "\n",
    "    return mean_failure_time\n",
    "end\n"
   ]
  },
  {
   "cell_type": "code",
   "execution_count": 8,
   "metadata": {},
   "outputs": [
    {
     "data": {
      "text/plain": [
       "deviance"
      ]
     },
     "metadata": {},
     "output_type": "display_data"
    }
   ],
   "source": [
    "\"\"\"\n",
    "    deviance(func::TwiceDifferentiable, parameters_m1::AbstractVector{<:Real}, func_m0::TwiceDifferentiable, parameters_m0::AbstractVector{<:Real})\n",
    "    Returns the deviance between two models and its estimated parameters.\n",
    "\"\"\"\n",
    "function deviance(func::TwiceDifferentiable, parameters_m1::AbstractVector{<:Real}, func_m0::TwiceDifferentiable, parameters_m0::AbstractVector{<:Real})\n",
    "    opt_1 = optimize(func, parameters_m1).minimum\n",
    "    opt_0 = optimize(func_m0, parameters_m0).minimum\n",
    "\n",
    "    return round(2 * (opt_0 - opt_1); digits=2)\n",
    "end"
   ]
  },
  {
   "cell_type": "code",
   "execution_count": 9,
   "metadata": {},
   "outputs": [
    {
     "name": "stdout",
     "output_type": "stream",
     "text": [
      "Parameters estimations : "
     ]
    },
    {
     "name": "stdout",
     "output_type": "stream",
     "text": [
      "[1.133, 0.4792]\n",
      "variance-covariance matrix: "
     ]
    },
    {
     "name": "stdout",
     "output_type": "stream",
     "text": [
      "[0.0468 -0.0144; -0.0144 0.0311]\n",
      "Standard-deviation : [0.2164, 0.1762]\n",
      "Confidence intervals : Any["
     ]
    },
    {
     "name": "stdout",
     "output_type": "stream",
     "text": [
      "[0.7089, 1.5572], [0.1338, 0.8246]]\n"
     ]
    },
    {
     "name": "stdout",
     "output_type": "stream",
     "text": [
      "Mean failure time : [0.3023, 0.7404]\n",
      "Deviance : "
     ]
    },
    {
     "name": "stdout",
     "output_type": "stream",
     "text": [
      "11.16\n"
     ]
    }
   ],
   "source": [
    "engine_df = CSV.read(joinpath(@__DIR__, \"../data/engine.csv\"), DataFrame)\n",
    "\n",
    "n = length(engine_df[!, :CorrosionLevel])\n",
    "function log_likelihood(betas, W, T)\n",
    "    llike = n * log(betas[1]) + betas[2] * sum(log.(W)) - betas[1] * sum(W .^ betas[2] .* T)\n",
    "    llike = -llike\n",
    "end\n",
    "\n",
    "function log_likelihood_m0(betas, T)\n",
    "    llike = n * log(betas[1]) - betas[1] * sum(T)\n",
    "    llike = -llike\n",
    "end\n",
    "\n",
    "W = reshape(engine_df[!, :CorrosionLevel], :, 1)\n",
    "T = reshape(engine_df[!, :Lifetime], :, 1)\n",
    "corrosion_level = 3\n",
    "\n",
    "nvar = 2\n",
    "func = TwiceDifferentiable(vars -> log_likelihood(vars[1:nvar], W, T),\n",
    "    ones(nvar); autodiff=:forward)\n",
    "func_m0 = TwiceDifferentiable(vars -> log_likelihood_m0(vars[1:1], T),\n",
    "    ones(1); autodiff=:forward)\n",
    "\n",
    "result = parameter_estimation(func, [1.0, 1.0], true)\n",
    "println(\"Parameters estimations : \", result.estimates)\n",
    "println(\"variance-covariance matrix: \", result.var_cov_matrix)\n",
    "println(\"Standard-deviation : \", result.std)\n",
    "println(\"Confidence intervals : \", result.intervals)\n",
    "\n",
    "result = parameter_estimation(func, [1.0, 1.0])\n",
    "println(\"Mean failure time : \", mean_failure_time(corrosion_level, result.estimates, result.var_cov_matrix, true))\n",
    "println(\"Deviance : \", deviance(func, [1.0, 1.0], func_m0, [1.0]))"
   ]
  }
 ],
 "metadata": {
  "kernelspec": {
   "display_name": "Julia 1.10.0",
   "language": "julia",
   "name": "julia-1.10"
  },
  "language_info": {
   "file_extension": ".jl",
   "mimetype": "application/julia",
   "name": "julia",
   "version": "1.10.0"
  }
 },
 "nbformat": 4,
 "nbformat_minor": 2
}
